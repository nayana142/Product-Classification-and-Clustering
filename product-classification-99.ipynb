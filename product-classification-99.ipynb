{
 "cells": [
  {
   "cell_type": "markdown",
   "id": "6a772a1d",
   "metadata": {
    "papermill": {
     "duration": 0.0131,
     "end_time": "2024-04-29T08:06:55.787324",
     "exception": false,
     "start_time": "2024-04-29T08:06:55.774224",
     "status": "completed"
    },
    "tags": []
   },
   "source": [
    "# <div style=\"text-align: center; background-color:black; font-family:Georgia, serif; color: green; padding: 20px;line-height: 1;border-radius:5px; border: 2px solid black;\">Product Classification and Clustering</div>"
   ]
  },
  {
   "cell_type": "code",
   "execution_count": 1,
   "id": "41b652c8",
   "metadata": {
    "execution": {
     "iopub.execute_input": "2024-04-29T08:06:55.813647Z",
     "iopub.status.busy": "2024-04-29T08:06:55.812239Z",
     "iopub.status.idle": "2024-04-29T08:06:56.763117Z",
     "shell.execute_reply": "2024-04-29T08:06:56.762112Z"
    },
    "papermill": {
     "duration": 0.966529,
     "end_time": "2024-04-29T08:06:56.765562",
     "exception": false,
     "start_time": "2024-04-29T08:06:55.799033",
     "status": "completed"
    },
    "tags": []
   },
   "outputs": [
    {
     "name": "stdout",
     "output_type": "stream",
     "text": [
      "/kaggle/input/product-classification-and-clustering/pricerunner_aggregate.csv\n"
     ]
    }
   ],
   "source": [
    "# This Python 3 environment comes with many helpful analytics libraries installed\n",
    "# It is defined by the kaggle/python Docker image: https://github.com/kaggle/docker-python\n",
    "# For example, here's several helpful packages to load\n",
    "\n",
    "import numpy as np # linear algebra\n",
    "import pandas as pd # data processing, CSV file I/O (e.g. pd.read_csv)\n",
    "\n",
    "# Input data files are available in the read-only \"../input/\" directory\n",
    "# For example, running this (by clicking run or pressing Shift+Enter) will list all files under the input directory\n",
    "\n",
    "import os\n",
    "for dirname, _, filenames in os.walk('/kaggle/input'):\n",
    "    for filename in filenames:\n",
    "        print(os.path.join(dirname, filename))\n",
    "\n",
    "# You can write up to 20GB to the current directory (/kaggle/working/) that gets preserved as output when you create a version using \"Save & Run All\" \n",
    "# You can also write temporary files to /kaggle/temp/, but they won't be saved outside of the current session"
   ]
  },
  {
   "cell_type": "markdown",
   "id": "6eb97631",
   "metadata": {
    "papermill": {
     "duration": 0.011097,
     "end_time": "2024-04-29T08:06:56.788128",
     "exception": false,
     "start_time": "2024-04-29T08:06:56.777031",
     "status": "completed"
    },
    "tags": []
   },
   "source": [
    "# Import Libraries"
   ]
  },
  {
   "cell_type": "code",
   "execution_count": 2,
   "id": "c4984e4d",
   "metadata": {
    "execution": {
     "iopub.execute_input": "2024-04-29T08:06:56.818122Z",
     "iopub.status.busy": "2024-04-29T08:06:56.817461Z",
     "iopub.status.idle": "2024-04-29T08:06:58.244930Z",
     "shell.execute_reply": "2024-04-29T08:06:58.244028Z"
    },
    "papermill": {
     "duration": 1.443776,
     "end_time": "2024-04-29T08:06:58.247587",
     "exception": false,
     "start_time": "2024-04-29T08:06:56.803811",
     "status": "completed"
    },
    "tags": []
   },
   "outputs": [],
   "source": [
    "import numpy as np\n",
    "import pandas as pd\n",
    "import seaborn as sns\n",
    "import matplotlib.pyplot as plt"
   ]
  },
  {
   "cell_type": "code",
   "execution_count": 3,
   "id": "fb2e8bb8",
   "metadata": {
    "execution": {
     "iopub.execute_input": "2024-04-29T08:06:58.274554Z",
     "iopub.status.busy": "2024-04-29T08:06:58.273144Z",
     "iopub.status.idle": "2024-04-29T08:06:58.432833Z",
     "shell.execute_reply": "2024-04-29T08:06:58.431933Z"
    },
    "papermill": {
     "duration": 0.176212,
     "end_time": "2024-04-29T08:06:58.435683",
     "exception": false,
     "start_time": "2024-04-29T08:06:58.259471",
     "status": "completed"
    },
    "tags": []
   },
   "outputs": [],
   "source": [
    "data=pd.read_csv('/kaggle/input/product-classification-and-clustering/pricerunner_aggregate.csv')"
   ]
  },
  {
   "cell_type": "code",
   "execution_count": 4,
   "id": "a7c7172c",
   "metadata": {
    "execution": {
     "iopub.execute_input": "2024-04-29T08:06:58.461280Z",
     "iopub.status.busy": "2024-04-29T08:06:58.460670Z",
     "iopub.status.idle": "2024-04-29T08:06:58.487225Z",
     "shell.execute_reply": "2024-04-29T08:06:58.486144Z"
    },
    "papermill": {
     "duration": 0.042441,
     "end_time": "2024-04-29T08:06:58.489673",
     "exception": false,
     "start_time": "2024-04-29T08:06:58.447232",
     "status": "completed"
    },
    "tags": []
   },
   "outputs": [
    {
     "data": {
      "text/html": [
       "<div>\n",
       "<style scoped>\n",
       "    .dataframe tbody tr th:only-of-type {\n",
       "        vertical-align: middle;\n",
       "    }\n",
       "\n",
       "    .dataframe tbody tr th {\n",
       "        vertical-align: top;\n",
       "    }\n",
       "\n",
       "    .dataframe thead th {\n",
       "        text-align: right;\n",
       "    }\n",
       "</style>\n",
       "<table border=\"1\" class=\"dataframe\">\n",
       "  <thead>\n",
       "    <tr style=\"text-align: right;\">\n",
       "      <th></th>\n",
       "      <th>Product ID</th>\n",
       "      <th>Product Title</th>\n",
       "      <th>Merchant ID</th>\n",
       "      <th>Cluster ID</th>\n",
       "      <th>Cluster Label</th>\n",
       "      <th>Category ID</th>\n",
       "      <th>Category Label</th>\n",
       "    </tr>\n",
       "  </thead>\n",
       "  <tbody>\n",
       "    <tr>\n",
       "      <th>0</th>\n",
       "      <td>1</td>\n",
       "      <td>apple iphone 8 plus 64gb silver</td>\n",
       "      <td>1</td>\n",
       "      <td>1</td>\n",
       "      <td>Apple iPhone 8 Plus 64GB</td>\n",
       "      <td>2612</td>\n",
       "      <td>Mobile Phones</td>\n",
       "    </tr>\n",
       "    <tr>\n",
       "      <th>1</th>\n",
       "      <td>2</td>\n",
       "      <td>apple iphone 8 plus 64 gb spacegrau</td>\n",
       "      <td>2</td>\n",
       "      <td>1</td>\n",
       "      <td>Apple iPhone 8 Plus 64GB</td>\n",
       "      <td>2612</td>\n",
       "      <td>Mobile Phones</td>\n",
       "    </tr>\n",
       "    <tr>\n",
       "      <th>2</th>\n",
       "      <td>3</td>\n",
       "      <td>apple mq8n2b/a iphone 8 plus 64gb 5.5 12mp sim...</td>\n",
       "      <td>3</td>\n",
       "      <td>1</td>\n",
       "      <td>Apple iPhone 8 Plus 64GB</td>\n",
       "      <td>2612</td>\n",
       "      <td>Mobile Phones</td>\n",
       "    </tr>\n",
       "    <tr>\n",
       "      <th>3</th>\n",
       "      <td>4</td>\n",
       "      <td>apple iphone 8 plus 64gb space grey</td>\n",
       "      <td>4</td>\n",
       "      <td>1</td>\n",
       "      <td>Apple iPhone 8 Plus 64GB</td>\n",
       "      <td>2612</td>\n",
       "      <td>Mobile Phones</td>\n",
       "    </tr>\n",
       "    <tr>\n",
       "      <th>4</th>\n",
       "      <td>5</td>\n",
       "      <td>apple iphone 8 plus gold 5.5 64gb 4g unlocked ...</td>\n",
       "      <td>5</td>\n",
       "      <td>1</td>\n",
       "      <td>Apple iPhone 8 Plus 64GB</td>\n",
       "      <td>2612</td>\n",
       "      <td>Mobile Phones</td>\n",
       "    </tr>\n",
       "    <tr>\n",
       "      <th>...</th>\n",
       "      <td>...</td>\n",
       "      <td>...</td>\n",
       "      <td>...</td>\n",
       "      <td>...</td>\n",
       "      <td>...</td>\n",
       "      <td>...</td>\n",
       "      <td>...</td>\n",
       "    </tr>\n",
       "    <tr>\n",
       "      <th>35306</th>\n",
       "      <td>47350</td>\n",
       "      <td>smeg fab28 60cm retro style right hand hinge f...</td>\n",
       "      <td>59</td>\n",
       "      <td>47517</td>\n",
       "      <td>Smeg FAB28 Cream</td>\n",
       "      <td>2623</td>\n",
       "      <td>Fridges</td>\n",
       "    </tr>\n",
       "    <tr>\n",
       "      <th>35307</th>\n",
       "      <td>47351</td>\n",
       "      <td>smeg fab28 60cm retro style left hand hinge fr...</td>\n",
       "      <td>59</td>\n",
       "      <td>47518</td>\n",
       "      <td>Smeg FAB28 Red</td>\n",
       "      <td>2623</td>\n",
       "      <td>Fridges</td>\n",
       "    </tr>\n",
       "    <tr>\n",
       "      <th>35308</th>\n",
       "      <td>47352</td>\n",
       "      <td>smeg fab28 60cm retro style left hand hinge fr...</td>\n",
       "      <td>59</td>\n",
       "      <td>47519</td>\n",
       "      <td>Smeg FAB28 Pink</td>\n",
       "      <td>2623</td>\n",
       "      <td>Fridges</td>\n",
       "    </tr>\n",
       "    <tr>\n",
       "      <th>35309</th>\n",
       "      <td>47355</td>\n",
       "      <td>candy 60cm built under larder fridge cru160nek</td>\n",
       "      <td>125</td>\n",
       "      <td>47524</td>\n",
       "      <td>Candy CRU16.0</td>\n",
       "      <td>2623</td>\n",
       "      <td>Fridges</td>\n",
       "    </tr>\n",
       "    <tr>\n",
       "      <th>35310</th>\n",
       "      <td>47358</td>\n",
       "      <td>neff k4316x7gb built under larder fridge</td>\n",
       "      <td>179</td>\n",
       "      <td>47525</td>\n",
       "      <td>Neff K4316</td>\n",
       "      <td>2623</td>\n",
       "      <td>Fridges</td>\n",
       "    </tr>\n",
       "  </tbody>\n",
       "</table>\n",
       "<p>35311 rows × 7 columns</p>\n",
       "</div>"
      ],
      "text/plain": [
       "       Product ID                                      Product Title  \\\n",
       "0               1                    apple iphone 8 plus 64gb silver   \n",
       "1               2                apple iphone 8 plus 64 gb spacegrau   \n",
       "2               3  apple mq8n2b/a iphone 8 plus 64gb 5.5 12mp sim...   \n",
       "3               4                apple iphone 8 plus 64gb space grey   \n",
       "4               5  apple iphone 8 plus gold 5.5 64gb 4g unlocked ...   \n",
       "...           ...                                                ...   \n",
       "35306       47350  smeg fab28 60cm retro style right hand hinge f...   \n",
       "35307       47351  smeg fab28 60cm retro style left hand hinge fr...   \n",
       "35308       47352  smeg fab28 60cm retro style left hand hinge fr...   \n",
       "35309       47355     candy 60cm built under larder fridge cru160nek   \n",
       "35310       47358           neff k4316x7gb built under larder fridge   \n",
       "\n",
       "        Merchant ID   Cluster ID             Cluster Label   Category ID  \\\n",
       "0                 1            1  Apple iPhone 8 Plus 64GB          2612   \n",
       "1                 2            1  Apple iPhone 8 Plus 64GB          2612   \n",
       "2                 3            1  Apple iPhone 8 Plus 64GB          2612   \n",
       "3                 4            1  Apple iPhone 8 Plus 64GB          2612   \n",
       "4                 5            1  Apple iPhone 8 Plus 64GB          2612   \n",
       "...             ...          ...                       ...           ...   \n",
       "35306            59        47517          Smeg FAB28 Cream          2623   \n",
       "35307            59        47518            Smeg FAB28 Red          2623   \n",
       "35308            59        47519           Smeg FAB28 Pink          2623   \n",
       "35309           125        47524             Candy CRU16.0          2623   \n",
       "35310           179        47525                Neff K4316          2623   \n",
       "\n",
       "       Category Label  \n",
       "0       Mobile Phones  \n",
       "1       Mobile Phones  \n",
       "2       Mobile Phones  \n",
       "3       Mobile Phones  \n",
       "4       Mobile Phones  \n",
       "...               ...  \n",
       "35306         Fridges  \n",
       "35307         Fridges  \n",
       "35308         Fridges  \n",
       "35309         Fridges  \n",
       "35310         Fridges  \n",
       "\n",
       "[35311 rows x 7 columns]"
      ]
     },
     "execution_count": 4,
     "metadata": {},
     "output_type": "execute_result"
    }
   ],
   "source": [
    "data"
   ]
  },
  {
   "cell_type": "markdown",
   "id": "5297d9e7",
   "metadata": {
    "papermill": {
     "duration": 0.011348,
     "end_time": "2024-04-29T08:06:58.513838",
     "exception": false,
     "start_time": "2024-04-29T08:06:58.502490",
     "status": "completed"
    },
    "tags": []
   },
   "source": [
    "# Data Preprocessing"
   ]
  },
  {
   "cell_type": "code",
   "execution_count": 5,
   "id": "b1837a07",
   "metadata": {
    "execution": {
     "iopub.execute_input": "2024-04-29T08:06:58.540064Z",
     "iopub.status.busy": "2024-04-29T08:06:58.539470Z",
     "iopub.status.idle": "2024-04-29T08:06:58.574963Z",
     "shell.execute_reply": "2024-04-29T08:06:58.572953Z"
    },
    "papermill": {
     "duration": 0.051832,
     "end_time": "2024-04-29T08:06:58.577705",
     "exception": false,
     "start_time": "2024-04-29T08:06:58.525873",
     "status": "completed"
    },
    "tags": []
   },
   "outputs": [
    {
     "name": "stdout",
     "output_type": "stream",
     "text": [
      "<class 'pandas.core.frame.DataFrame'>\n",
      "RangeIndex: 35311 entries, 0 to 35310\n",
      "Data columns (total 7 columns):\n",
      " #   Column           Non-Null Count  Dtype \n",
      "---  ------           --------------  ----- \n",
      " 0   Product ID       35311 non-null  int64 \n",
      " 1   Product Title    35311 non-null  object\n",
      " 2    Merchant ID     35311 non-null  int64 \n",
      " 3    Cluster ID      35311 non-null  int64 \n",
      " 4    Cluster Label   35311 non-null  object\n",
      " 5    Category ID     35311 non-null  int64 \n",
      " 6    Category Label  35311 non-null  object\n",
      "dtypes: int64(4), object(3)\n",
      "memory usage: 1.9+ MB\n"
     ]
    }
   ],
   "source": [
    "data.info()"
   ]
  },
  {
   "cell_type": "code",
   "execution_count": 6,
   "id": "e255f534",
   "metadata": {
    "execution": {
     "iopub.execute_input": "2024-04-29T08:06:58.605332Z",
     "iopub.status.busy": "2024-04-29T08:06:58.603941Z",
     "iopub.status.idle": "2024-04-29T08:06:58.640396Z",
     "shell.execute_reply": "2024-04-29T08:06:58.639141Z"
    },
    "papermill": {
     "duration": 0.053147,
     "end_time": "2024-04-29T08:06:58.643218",
     "exception": false,
     "start_time": "2024-04-29T08:06:58.590071",
     "status": "completed"
    },
    "tags": []
   },
   "outputs": [
    {
     "data": {
      "text/html": [
       "<div>\n",
       "<style scoped>\n",
       "    .dataframe tbody tr th:only-of-type {\n",
       "        vertical-align: middle;\n",
       "    }\n",
       "\n",
       "    .dataframe tbody tr th {\n",
       "        vertical-align: top;\n",
       "    }\n",
       "\n",
       "    .dataframe thead th {\n",
       "        text-align: right;\n",
       "    }\n",
       "</style>\n",
       "<table border=\"1\" class=\"dataframe\">\n",
       "  <thead>\n",
       "    <tr style=\"text-align: right;\">\n",
       "      <th></th>\n",
       "      <th>count</th>\n",
       "      <th>mean</th>\n",
       "      <th>std</th>\n",
       "      <th>min</th>\n",
       "      <th>25%</th>\n",
       "      <th>50%</th>\n",
       "      <th>75%</th>\n",
       "      <th>max</th>\n",
       "    </tr>\n",
       "  </thead>\n",
       "  <tbody>\n",
       "    <tr>\n",
       "      <th>Product ID</th>\n",
       "      <td>35311.0</td>\n",
       "      <td>26150.800176</td>\n",
       "      <td>13498.191220</td>\n",
       "      <td>1.0</td>\n",
       "      <td>14958.5</td>\n",
       "      <td>27614.0</td>\n",
       "      <td>37508.5</td>\n",
       "      <td>47358.0</td>\n",
       "    </tr>\n",
       "    <tr>\n",
       "      <th>Merchant ID</th>\n",
       "      <td>35311.0</td>\n",
       "      <td>120.501883</td>\n",
       "      <td>117.045557</td>\n",
       "      <td>1.0</td>\n",
       "      <td>17.0</td>\n",
       "      <td>75.0</td>\n",
       "      <td>253.0</td>\n",
       "      <td>371.0</td>\n",
       "    </tr>\n",
       "    <tr>\n",
       "      <th>Cluster ID</th>\n",
       "      <td>35311.0</td>\n",
       "      <td>30110.687633</td>\n",
       "      <td>18410.265642</td>\n",
       "      <td>1.0</td>\n",
       "      <td>6123.0</td>\n",
       "      <td>40630.0</td>\n",
       "      <td>44059.0</td>\n",
       "      <td>47525.0</td>\n",
       "    </tr>\n",
       "    <tr>\n",
       "      <th>Category ID</th>\n",
       "      <td>35311.0</td>\n",
       "      <td>2618.142930</td>\n",
       "      <td>3.600708</td>\n",
       "      <td>2612.0</td>\n",
       "      <td>2615.0</td>\n",
       "      <td>2619.0</td>\n",
       "      <td>2622.0</td>\n",
       "      <td>2623.0</td>\n",
       "    </tr>\n",
       "  </tbody>\n",
       "</table>\n",
       "</div>"
      ],
      "text/plain": [
       "                count          mean           std     min      25%      50%  \\\n",
       "Product ID    35311.0  26150.800176  13498.191220     1.0  14958.5  27614.0   \n",
       " Merchant ID  35311.0    120.501883    117.045557     1.0     17.0     75.0   \n",
       " Cluster ID   35311.0  30110.687633  18410.265642     1.0   6123.0  40630.0   \n",
       " Category ID  35311.0   2618.142930      3.600708  2612.0   2615.0   2619.0   \n",
       "\n",
       "                  75%      max  \n",
       "Product ID    37508.5  47358.0  \n",
       " Merchant ID    253.0    371.0  \n",
       " Cluster ID   44059.0  47525.0  \n",
       " Category ID   2622.0   2623.0  "
      ]
     },
     "execution_count": 6,
     "metadata": {},
     "output_type": "execute_result"
    }
   ],
   "source": [
    "data.describe().T"
   ]
  },
  {
   "cell_type": "code",
   "execution_count": 7,
   "id": "d80e65f8",
   "metadata": {
    "execution": {
     "iopub.execute_input": "2024-04-29T08:06:58.670515Z",
     "iopub.status.busy": "2024-04-29T08:06:58.669742Z",
     "iopub.status.idle": "2024-04-29T08:06:58.756993Z",
     "shell.execute_reply": "2024-04-29T08:06:58.756132Z"
    },
    "papermill": {
     "duration": 0.103638,
     "end_time": "2024-04-29T08:06:58.759464",
     "exception": false,
     "start_time": "2024-04-29T08:06:58.655826",
     "status": "completed"
    },
    "tags": []
   },
   "outputs": [
    {
     "data": {
      "text/html": [
       "<div>\n",
       "<style scoped>\n",
       "    .dataframe tbody tr th:only-of-type {\n",
       "        vertical-align: middle;\n",
       "    }\n",
       "\n",
       "    .dataframe tbody tr th {\n",
       "        vertical-align: top;\n",
       "    }\n",
       "\n",
       "    .dataframe thead th {\n",
       "        text-align: right;\n",
       "    }\n",
       "</style>\n",
       "<table border=\"1\" class=\"dataframe\">\n",
       "  <thead>\n",
       "    <tr style=\"text-align: right;\">\n",
       "      <th></th>\n",
       "      <th>Product ID</th>\n",
       "      <th>Product Title</th>\n",
       "      <th>Merchant ID</th>\n",
       "      <th>Cluster ID</th>\n",
       "      <th>Cluster Label</th>\n",
       "      <th>Category ID</th>\n",
       "      <th>Category Label</th>\n",
       "    </tr>\n",
       "  </thead>\n",
       "  <tbody>\n",
       "    <tr>\n",
       "      <th>count</th>\n",
       "      <td>35311.000000</td>\n",
       "      <td>35311</td>\n",
       "      <td>35311.000000</td>\n",
       "      <td>35311.000000</td>\n",
       "      <td>35311</td>\n",
       "      <td>35311.000000</td>\n",
       "      <td>35311</td>\n",
       "    </tr>\n",
       "    <tr>\n",
       "      <th>unique</th>\n",
       "      <td>NaN</td>\n",
       "      <td>30993</td>\n",
       "      <td>NaN</td>\n",
       "      <td>NaN</td>\n",
       "      <td>12849</td>\n",
       "      <td>NaN</td>\n",
       "      <td>10</td>\n",
       "    </tr>\n",
       "    <tr>\n",
       "      <th>top</th>\n",
       "      <td>NaN</td>\n",
       "      <td>washing machine</td>\n",
       "      <td>NaN</td>\n",
       "      <td>NaN</td>\n",
       "      <td>Canon IXUS 185</td>\n",
       "      <td>NaN</td>\n",
       "      <td>Fridge Freezers</td>\n",
       "    </tr>\n",
       "    <tr>\n",
       "      <th>freq</th>\n",
       "      <td>NaN</td>\n",
       "      <td>90</td>\n",
       "      <td>NaN</td>\n",
       "      <td>NaN</td>\n",
       "      <td>27</td>\n",
       "      <td>NaN</td>\n",
       "      <td>5501</td>\n",
       "    </tr>\n",
       "    <tr>\n",
       "      <th>mean</th>\n",
       "      <td>26150.800176</td>\n",
       "      <td>NaN</td>\n",
       "      <td>120.501883</td>\n",
       "      <td>30110.687633</td>\n",
       "      <td>NaN</td>\n",
       "      <td>2618.142930</td>\n",
       "      <td>NaN</td>\n",
       "    </tr>\n",
       "    <tr>\n",
       "      <th>std</th>\n",
       "      <td>13498.191220</td>\n",
       "      <td>NaN</td>\n",
       "      <td>117.045557</td>\n",
       "      <td>18410.265642</td>\n",
       "      <td>NaN</td>\n",
       "      <td>3.600708</td>\n",
       "      <td>NaN</td>\n",
       "    </tr>\n",
       "    <tr>\n",
       "      <th>min</th>\n",
       "      <td>1.000000</td>\n",
       "      <td>NaN</td>\n",
       "      <td>1.000000</td>\n",
       "      <td>1.000000</td>\n",
       "      <td>NaN</td>\n",
       "      <td>2612.000000</td>\n",
       "      <td>NaN</td>\n",
       "    </tr>\n",
       "    <tr>\n",
       "      <th>25%</th>\n",
       "      <td>14958.500000</td>\n",
       "      <td>NaN</td>\n",
       "      <td>17.000000</td>\n",
       "      <td>6123.000000</td>\n",
       "      <td>NaN</td>\n",
       "      <td>2615.000000</td>\n",
       "      <td>NaN</td>\n",
       "    </tr>\n",
       "    <tr>\n",
       "      <th>50%</th>\n",
       "      <td>27614.000000</td>\n",
       "      <td>NaN</td>\n",
       "      <td>75.000000</td>\n",
       "      <td>40630.000000</td>\n",
       "      <td>NaN</td>\n",
       "      <td>2619.000000</td>\n",
       "      <td>NaN</td>\n",
       "    </tr>\n",
       "    <tr>\n",
       "      <th>75%</th>\n",
       "      <td>37508.500000</td>\n",
       "      <td>NaN</td>\n",
       "      <td>253.000000</td>\n",
       "      <td>44059.000000</td>\n",
       "      <td>NaN</td>\n",
       "      <td>2622.000000</td>\n",
       "      <td>NaN</td>\n",
       "    </tr>\n",
       "    <tr>\n",
       "      <th>max</th>\n",
       "      <td>47358.000000</td>\n",
       "      <td>NaN</td>\n",
       "      <td>371.000000</td>\n",
       "      <td>47525.000000</td>\n",
       "      <td>NaN</td>\n",
       "      <td>2623.000000</td>\n",
       "      <td>NaN</td>\n",
       "    </tr>\n",
       "  </tbody>\n",
       "</table>\n",
       "</div>"
      ],
      "text/plain": [
       "          Product ID    Product Title   Merchant ID    Cluster ID  \\\n",
       "count   35311.000000            35311  35311.000000  35311.000000   \n",
       "unique           NaN            30993           NaN           NaN   \n",
       "top              NaN  washing machine           NaN           NaN   \n",
       "freq             NaN               90           NaN           NaN   \n",
       "mean    26150.800176              NaN    120.501883  30110.687633   \n",
       "std     13498.191220              NaN    117.045557  18410.265642   \n",
       "min         1.000000              NaN      1.000000      1.000000   \n",
       "25%     14958.500000              NaN     17.000000   6123.000000   \n",
       "50%     27614.000000              NaN     75.000000  40630.000000   \n",
       "75%     37508.500000              NaN    253.000000  44059.000000   \n",
       "max     47358.000000              NaN    371.000000  47525.000000   \n",
       "\n",
       "         Cluster Label   Category ID   Category Label  \n",
       "count            35311  35311.000000            35311  \n",
       "unique           12849           NaN               10  \n",
       "top     Canon IXUS 185           NaN  Fridge Freezers  \n",
       "freq                27           NaN             5501  \n",
       "mean               NaN   2618.142930              NaN  \n",
       "std                NaN      3.600708              NaN  \n",
       "min                NaN   2612.000000              NaN  \n",
       "25%                NaN   2615.000000              NaN  \n",
       "50%                NaN   2619.000000              NaN  \n",
       "75%                NaN   2622.000000              NaN  \n",
       "max                NaN   2623.000000              NaN  "
      ]
     },
     "execution_count": 7,
     "metadata": {},
     "output_type": "execute_result"
    }
   ],
   "source": [
    "data.describe(include='all')"
   ]
  },
  {
   "cell_type": "code",
   "execution_count": 8,
   "id": "c21e9ae2",
   "metadata": {
    "execution": {
     "iopub.execute_input": "2024-04-29T08:06:58.787021Z",
     "iopub.status.busy": "2024-04-29T08:06:58.786319Z",
     "iopub.status.idle": "2024-04-29T08:06:58.807265Z",
     "shell.execute_reply": "2024-04-29T08:06:58.806154Z"
    },
    "papermill": {
     "duration": 0.037718,
     "end_time": "2024-04-29T08:06:58.809815",
     "exception": false,
     "start_time": "2024-04-29T08:06:58.772097",
     "status": "completed"
    },
    "tags": []
   },
   "outputs": [
    {
     "data": {
      "text/plain": [
       "Product ID         0\n",
       "Product Title      0\n",
       " Merchant ID       0\n",
       " Cluster ID        0\n",
       " Cluster Label     0\n",
       " Category ID       0\n",
       " Category Label    0\n",
       "dtype: int64"
      ]
     },
     "execution_count": 8,
     "metadata": {},
     "output_type": "execute_result"
    }
   ],
   "source": [
    "data.isnull().sum()"
   ]
  },
  {
   "cell_type": "code",
   "execution_count": 9,
   "id": "65021f06",
   "metadata": {
    "execution": {
     "iopub.execute_input": "2024-04-29T08:06:58.838120Z",
     "iopub.status.busy": "2024-04-29T08:06:58.837494Z",
     "iopub.status.idle": "2024-04-29T08:06:58.871557Z",
     "shell.execute_reply": "2024-04-29T08:06:58.870437Z"
    },
    "papermill": {
     "duration": 0.051103,
     "end_time": "2024-04-29T08:06:58.873984",
     "exception": false,
     "start_time": "2024-04-29T08:06:58.822881",
     "status": "completed"
    },
    "tags": []
   },
   "outputs": [
    {
     "name": "stdout",
     "output_type": "stream",
     "text": [
      "Product ID : 35311\n",
      "Product Title : 30993\n",
      " Merchant ID : 306\n",
      " Cluster ID : 13233\n",
      " Cluster Label : 12849\n",
      " Category ID : 10\n",
      " Category Label : 10\n"
     ]
    }
   ],
   "source": [
    "# checking unique values\n",
    "for i in data.columns:\n",
    "    print(i,':',data[i].nunique())"
   ]
  },
  {
   "cell_type": "markdown",
   "id": "34f4a7ff",
   "metadata": {
    "papermill": {
     "duration": 0.012486,
     "end_time": "2024-04-29T08:06:58.899114",
     "exception": false,
     "start_time": "2024-04-29T08:06:58.886628",
     "status": "completed"
    },
    "tags": []
   },
   "source": [
    "# Exploratory Data Analysis"
   ]
  },
  {
   "cell_type": "code",
   "execution_count": 10,
   "id": "f5534b0e",
   "metadata": {
    "execution": {
     "iopub.execute_input": "2024-04-29T08:06:58.926906Z",
     "iopub.status.busy": "2024-04-29T08:06:58.926273Z",
     "iopub.status.idle": "2024-04-29T08:06:58.954139Z",
     "shell.execute_reply": "2024-04-29T08:06:58.953170Z"
    },
    "papermill": {
     "duration": 0.045388,
     "end_time": "2024-04-29T08:06:58.957202",
     "exception": false,
     "start_time": "2024-04-29T08:06:58.911814",
     "status": "completed"
    },
    "tags": []
   },
   "outputs": [
    {
     "data": {
      "text/plain": [
       "Product Title\n",
       "washing machine                                                 90\n",
       "built in fully integrated dishwasher                            35\n",
       "frost free fridge freezer                                       34\n",
       "washer dryer                                                    24\n",
       "american fridge freezer                                         22\n",
       "static integrated fridge freezer                                18\n",
       "static fridge freezer                                           17\n",
       "built in semi integrated dishwasher                             15\n",
       "hp intel xeon quad core e5506 2.13ghz fio kit 2.13ghz 4mb l2    14\n",
       "frost free integrated fridge freezer                            11\n",
       "Name: count, dtype: int64"
      ]
     },
     "execution_count": 10,
     "metadata": {},
     "output_type": "execute_result"
    }
   ],
   "source": [
    "Product=data['Product Title'].value_counts(ascending=False).head(10)\n",
    "Product"
   ]
  },
  {
   "cell_type": "code",
   "execution_count": 11,
   "id": "7eccda92",
   "metadata": {
    "execution": {
     "iopub.execute_input": "2024-04-29T08:06:58.988105Z",
     "iopub.status.busy": "2024-04-29T08:06:58.986876Z",
     "iopub.status.idle": "2024-04-29T08:06:59.482945Z",
     "shell.execute_reply": "2024-04-29T08:06:59.481528Z"
    },
    "papermill": {
     "duration": 0.514118,
     "end_time": "2024-04-29T08:06:59.485761",
     "exception": false,
     "start_time": "2024-04-29T08:06:58.971643",
     "status": "completed"
    },
    "tags": []
   },
   "outputs": [
    {
     "data": {
      "image/png": "[encoded data removed]",
      "text/plain": [
       "<Figure size 1000x600 with 1 Axes>"
      ]
     },
     "metadata": {},
     "output_type": "display_data"
    }
   ],
   "source": [
    "# Plotting the countplot\n",
    "plt.figure(figsize=(10, 6))\n",
    "Product.plot(kind='bar', color='skyblue') \n",
    "plt.title('Top 10 Most Frequent Product Titles')\n",
    "plt.ylabel('Count')\n",
    "plt.xlabel('Product Title')\n",
    "plt.show()"
   ]
  },
  {
   "cell_type": "code",
   "execution_count": 12,
   "id": "4b5c75e7",
   "metadata": {
    "execution": {
     "iopub.execute_input": "2024-04-29T08:06:59.517584Z",
     "iopub.status.busy": "2024-04-29T08:06:59.517140Z",
     "iopub.status.idle": "2024-04-29T08:06:59.528895Z",
     "shell.execute_reply": "2024-04-29T08:06:59.527534Z"
    },
    "papermill": {
     "duration": 0.030894,
     "end_time": "2024-04-29T08:06:59.531693",
     "exception": false,
     "start_time": "2024-04-29T08:06:59.500799",
     "status": "completed"
    },
    "tags": []
   },
   "outputs": [
    {
     "data": {
      "text/plain": [
       " Merchant ID\n",
       "3      2547\n",
       "6      1591\n",
       "298    1523\n",
       "31     1350\n",
       "119    1239\n",
       "7      1204\n",
       "17     1193\n",
       "293    1177\n",
       "294    1000\n",
       "301     901\n",
       "Name: count, dtype: int64"
      ]
     },
     "execution_count": 12,
     "metadata": {},
     "output_type": "execute_result"
    }
   ],
   "source": [
    "Merchant=data[' Merchant ID'].value_counts(ascending=False).head(10)\n",
    "Merchant"
   ]
  },
  {
   "cell_type": "code",
   "execution_count": 13,
   "id": "ee82ba21",
   "metadata": {
    "execution": {
     "iopub.execute_input": "2024-04-29T08:06:59.564536Z",
     "iopub.status.busy": "2024-04-29T08:06:59.564048Z",
     "iopub.status.idle": "2024-04-29T08:06:59.572512Z",
     "shell.execute_reply": "2024-04-29T08:06:59.571330Z"
    },
    "papermill": {
     "duration": 0.028393,
     "end_time": "2024-04-29T08:06:59.575646",
     "exception": false,
     "start_time": "2024-04-29T08:06:59.547253",
     "status": "completed"
    },
    "tags": []
   },
   "outputs": [
    {
     "data": {
      "text/plain": [
       "Index(['Product ID', 'Product Title', ' Merchant ID', ' Cluster ID',\n",
       "       ' Cluster Label', ' Category ID', ' Category Label'],\n",
       "      dtype='object')"
      ]
     },
     "execution_count": 13,
     "metadata": {},
     "output_type": "execute_result"
    }
   ],
   "source": [
    "data.columns"
   ]
  },
  {
   "cell_type": "code",
   "execution_count": 14,
   "id": "92542745",
   "metadata": {
    "execution": {
     "iopub.execute_input": "2024-04-29T08:06:59.606544Z",
     "iopub.status.busy": "2024-04-29T08:06:59.606092Z",
     "iopub.status.idle": "2024-04-29T08:06:59.916332Z",
     "shell.execute_reply": "2024-04-29T08:06:59.914978Z"
    },
    "papermill": {
     "duration": 0.329595,
     "end_time": "2024-04-29T08:06:59.919828",
     "exception": false,
     "start_time": "2024-04-29T08:06:59.590233",
     "status": "completed"
    },
    "tags": []
   },
   "outputs": [
    {
     "data": {
      "image/png": "[encoded data removed]",
      "text/plain": [
       "<Figure size 1000x600 with 1 Axes>"
      ]
     },
     "metadata": {},
     "output_type": "display_data"
    }
   ],
   "source": [
    "plt.figure(figsize=(10, 6))\n",
    "Merchant.plot(kind='bar', color='green')\n",
    "plt.title('Top 10 Most Frequent Merchant IDs')\n",
    "plt.ylabel('Count')\n",
    "plt.xlabel('Merchant ID')\n",
    "plt.show()"
   ]
  },
  {
   "cell_type": "code",
   "execution_count": 15,
   "id": "f9746711",
   "metadata": {
    "execution": {
     "iopub.execute_input": "2024-04-29T08:06:59.952879Z",
     "iopub.status.busy": "2024-04-29T08:06:59.952425Z",
     "iopub.status.idle": "2024-04-29T08:07:00.349046Z",
     "shell.execute_reply": "2024-04-29T08:07:00.347569Z"
    },
    "papermill": {
     "duration": 0.417134,
     "end_time": "2024-04-29T08:07:00.352152",
     "exception": false,
     "start_time": "2024-04-29T08:06:59.935018",
     "status": "completed"
    },
    "tags": []
   },
   "outputs": [
    {
     "data": {
      "image/png": "[encoded data removed]",
      "text/plain": [
       "<Figure size 800x800 with 1 Axes>"
      ]
     },
     "metadata": {},
     "output_type": "display_data"
    }
   ],
   "source": [
    "plt.figure(figsize=(8, 8))  # Adjusting the figure size\n",
    "data[' Category ID'].value_counts().plot(kind='pie', autopct='%1.1f%%', labels=None)  # Adding percentage labels\n",
    "plt.title('Distribution of Category IDs')\n",
    "plt.ylabel('')  # Removing y-label\n",
    "plt.legend(data[' Category ID'].value_counts().index, loc=\"best\")  # Adding legend with category IDs\n",
    "plt.show()"
   ]
  },
  {
   "cell_type": "code",
   "execution_count": 16,
   "id": "b6f0b661",
   "metadata": {
    "execution": {
     "iopub.execute_input": "2024-04-29T08:07:00.389736Z",
     "iopub.status.busy": "2024-04-29T08:07:00.388922Z",
     "iopub.status.idle": "2024-04-29T08:07:00.758875Z",
     "shell.execute_reply": "2024-04-29T08:07:00.757349Z"
    },
    "papermill": {
     "duration": 0.392167,
     "end_time": "2024-04-29T08:07:00.761819",
     "exception": false,
     "start_time": "2024-04-29T08:07:00.369652",
     "status": "completed"
    },
    "tags": []
   },
   "outputs": [
    {
     "data": {
      "image/png": "[encoded data removed]",
      "text/plain": [
       "<Figure size 800x800 with 1 Axes>"
      ]
     },
     "metadata": {},
     "output_type": "display_data"
    }
   ],
   "source": [
    "plt.figure(figsize=(8, 8))  # Adjusting the figure size\n",
    "data[' Category Label'].value_counts().plot(kind='bar')  # Adding percentage labels\n",
    "plt.title('Distribution of Category Labels')\n",
    "plt.ylabel('')  # Removing y-label\n",
    "plt.legend(data[' Category Label'].value_counts().index, loc=\"best\")  # Adding legend with category IDs\n",
    "plt.show()"
   ]
  },
  {
   "cell_type": "markdown",
   "id": "8e2b5a5d",
   "metadata": {
    "papermill": {
     "duration": 0.019418,
     "end_time": "2024-04-29T08:07:00.798964",
     "exception": false,
     "start_time": "2024-04-29T08:07:00.779546",
     "status": "completed"
    },
    "tags": []
   },
   "source": [
    "# Model"
   ]
  },
  {
   "cell_type": "code",
   "execution_count": 17,
   "id": "57aa97af",
   "metadata": {
    "execution": {
     "iopub.execute_input": "2024-04-29T08:07:00.840613Z",
     "iopub.status.busy": "2024-04-29T08:07:00.839202Z",
     "iopub.status.idle": "2024-04-29T08:07:01.471380Z",
     "shell.execute_reply": "2024-04-29T08:07:01.469978Z"
    },
    "papermill": {
     "duration": 0.656848,
     "end_time": "2024-04-29T08:07:01.474780",
     "exception": false,
     "start_time": "2024-04-29T08:07:00.817932",
     "status": "completed"
    },
    "tags": []
   },
   "outputs": [],
   "source": [
    "from sklearn.model_selection import train_test_split\n",
    "from sklearn.preprocessing import LabelEncoder\n",
    "from sklearn.ensemble import RandomForestClassifier\n",
    "from sklearn.cluster import KMeans\n",
    "from sklearn.metrics import classification_report"
   ]
  },
  {
   "cell_type": "code",
   "execution_count": 18,
   "id": "36f9d0fe",
   "metadata": {
    "execution": {
     "iopub.execute_input": "2024-04-29T08:07:01.519259Z",
     "iopub.status.busy": "2024-04-29T08:07:01.517592Z",
     "iopub.status.idle": "2024-04-29T08:07:01.720207Z",
     "shell.execute_reply": "2024-04-29T08:07:01.718835Z"
    },
    "papermill": {
     "duration": 0.229092,
     "end_time": "2024-04-29T08:07:01.723267",
     "exception": false,
     "start_time": "2024-04-29T08:07:01.494175",
     "status": "completed"
    },
    "tags": []
   },
   "outputs": [],
   "source": [
    "# Convert categorical variables to numerical using label encoding\n",
    "label_encoders = {}\n",
    "for column in ['Product Title', ' Cluster Label', ' Category Label']:\n",
    "    label_encoders[column] = LabelEncoder()\n",
    "    data[column] = label_encoders[column].fit_transform(data[column])\n"
   ]
  },
  {
   "cell_type": "code",
   "execution_count": 19,
   "id": "8391240f",
   "metadata": {
    "execution": {
     "iopub.execute_input": "2024-04-29T08:07:01.759988Z",
     "iopub.status.busy": "2024-04-29T08:07:01.759499Z",
     "iopub.status.idle": "2024-04-29T08:07:01.767314Z",
     "shell.execute_reply": "2024-04-29T08:07:01.765839Z"
    },
    "papermill": {
     "duration": 0.028884,
     "end_time": "2024-04-29T08:07:01.769931",
     "exception": false,
     "start_time": "2024-04-29T08:07:01.741047",
     "status": "completed"
    },
    "tags": []
   },
   "outputs": [],
   "source": [
    "# Split the data into features and target variables for classification\n",
    "X = data[['Product Title', ' Merchant ID', ' Category ID']]\n",
    "y = data[' Category Label']\n"
   ]
  },
  {
   "cell_type": "code",
   "execution_count": 20,
   "id": "06f8591c",
   "metadata": {
    "execution": {
     "iopub.execute_input": "2024-04-29T08:07:01.806094Z",
     "iopub.status.busy": "2024-04-29T08:07:01.805625Z",
     "iopub.status.idle": "2024-04-29T08:07:01.817814Z",
     "shell.execute_reply": "2024-04-29T08:07:01.816510Z"
    },
    "papermill": {
     "duration": 0.034636,
     "end_time": "2024-04-29T08:07:01.821084",
     "exception": false,
     "start_time": "2024-04-29T08:07:01.786448",
     "status": "completed"
    },
    "tags": []
   },
   "outputs": [],
   "source": [
    "# Split the data into training and testing sets for classification\n",
    "X_train, X_test, y_train, y_test = train_test_split(X, y, test_size=0.2, random_state=42)\n"
   ]
  },
  {
   "cell_type": "code",
   "execution_count": 21,
   "id": "563242c2",
   "metadata": {
    "execution": {
     "iopub.execute_input": "2024-04-29T08:07:01.859076Z",
     "iopub.status.busy": "2024-04-29T08:07:01.857873Z",
     "iopub.status.idle": "2024-04-29T08:07:04.008548Z",
     "shell.execute_reply": "2024-04-29T08:07:04.007343Z"
    },
    "papermill": {
     "duration": 2.172017,
     "end_time": "2024-04-29T08:07:04.011135",
     "exception": false,
     "start_time": "2024-04-29T08:07:01.839118",
     "status": "completed"
    },
    "tags": []
   },
   "outputs": [
    {
     "data": {
      "text/html": [
       "<style>#sk-container-id-1 {color: black;background-color: white;}#sk-container-id-1 pre{padding: 0;}#sk-container-id-1 div.sk-toggleable {background-color: white;}#sk-container-id-1 label.sk-toggleable__label {cursor: pointer;display: block;width: 100%;margin-bottom: 0;padding: 0.3em;box-sizing: border-box;text-align: center;}#sk-container-id-1 label.sk-toggleable__label-arrow:before {content: \"▸\";float: left;margin-right: 0.25em;color: #696969;}#sk-container-id-1 label.sk-toggleable__label-arrow:hover:before {color: black;}#sk-container-id-1 div.sk-estimator:hover label.sk-toggleable__label-arrow:before {color: black;}#sk-container-id-1 div.sk-toggleable__content {max-height: 0;max-width: 0;overflow: hidden;text-align: left;background-color: #f0f8ff;}#sk-container-id-1 div.sk-toggleable__content pre {margin: 0.2em;color: black;border-radius: 0.25em;background-color: #f0f8ff;}#sk-container-id-1 input.sk-toggleable__control:checked~div.sk-toggleable__content {max-height: 200px;max-width: 100%;overflow: auto;}#sk-container-id-1 input.sk-toggleable__control:checked~label.sk-toggleable__label-arrow:before {content: \"▾\";}#sk-container-id-1 div.sk-estimator input.sk-toggleable__control:checked~label.sk-toggleable__label {background-color: #d4ebff;}#sk-container-id-1 div.sk-label input.sk-toggleable__control:checked~label.sk-toggleable__label {background-color: #d4ebff;}#sk-container-id-1 input.sk-hidden--visually {border: 0;clip: rect(1px 1px 1px 1px);clip: rect(1px, 1px, 1px, 1px);height: 1px;margin: -1px;overflow: hidden;padding: 0;position: absolute;width: 1px;}#sk-container-id-1 div.sk-estimator {font-family: monospace;background-color: #f0f8ff;border: 1px dotted black;border-radius: 0.25em;box-sizing: border-box;margin-bottom: 0.5em;}#sk-container-id-1 div.sk-estimator:hover {background-color: #d4ebff;}#sk-container-id-1 div.sk-parallel-item::after {content: \"\";width: 100%;border-bottom: 1px solid gray;flex-grow: 1;}#sk-container-id-1 div.sk-label:hover label.sk-toggleable__label {background-color: #d4ebff;}#sk-container-id-1 div.sk-serial::before {content: \"\";position: absolute;border-left: 1px solid gray;box-sizing: border-box;top: 0;bottom: 0;left: 50%;z-index: 0;}#sk-container-id-1 div.sk-serial {display: flex;flex-direction: column;align-items: center;background-color: white;padding-right: 0.2em;padding-left: 0.2em;position: relative;}#sk-container-id-1 div.sk-item {position: relative;z-index: 1;}#sk-container-id-1 div.sk-parallel {display: flex;align-items: stretch;justify-content: center;background-color: white;position: relative;}#sk-container-id-1 div.sk-item::before, #sk-container-id-1 div.sk-parallel-item::before {content: \"\";position: absolute;border-left: 1px solid gray;box-sizing: border-box;top: 0;bottom: 0;left: 50%;z-index: -1;}#sk-container-id-1 div.sk-parallel-item {display: flex;flex-direction: column;z-index: 1;position: relative;background-color: white;}#sk-container-id-1 div.sk-parallel-item:first-child::after {align-self: flex-end;width: 50%;}#sk-container-id-1 div.sk-parallel-item:last-child::after {align-self: flex-start;width: 50%;}#sk-container-id-1 div.sk-parallel-item:only-child::after {width: 0;}#sk-container-id-1 div.sk-dashed-wrapped {border: 1px dashed gray;margin: 0 0.4em 0.5em 0.4em;box-sizing: border-box;padding-bottom: 0.4em;background-color: white;}#sk-container-id-1 div.sk-label label {font-family: monospace;font-weight: bold;display: inline-block;line-height: 1.2em;}#sk-container-id-1 div.sk-label-container {text-align: center;}#sk-container-id-1 div.sk-container {/* jupyter's `normalize.less` sets `[hidden] { display: none; }` but bootstrap.min.css set `[hidden] { display: none !important; }` so we also need the `!important` here to be able to override the default hidden behavior on the sphinx rendered scikit-learn.org. See: https://github.com/scikit-learn/scikit-learn/issues/21755 */display: inline-block !important;position: relative;}#sk-container-id-1 div.sk-text-repr-fallback {display: none;}</style><div id=\"sk-container-id-1\" class=\"sk-top-container\"><div class=\"sk-text-repr-fallback\"><pre>RandomForestClassifier()</pre><b>In a Jupyter environment, please rerun this cell to show the HTML representation or trust the notebook. <br />On GitHub, the HTML representation is unable to render, please try loading this page with nbviewer.org.</b></div><div class=\"sk-container\" hidden><div class=\"sk-item\"><div class=\"sk-estimator sk-toggleable\"><input class=\"sk-toggleable__control sk-hidden--visually\" id=\"sk-estimator-id-1\" type=\"checkbox\" checked><label for=\"sk-estimator-id-1\" class=\"sk-toggleable__label sk-toggleable__label-arrow\">RandomForestClassifier</label><div class=\"sk-toggleable__content\"><pre>RandomForestClassifier()</pre></div></div></div></div></div>"
      ],
      "text/plain": [
       "RandomForestClassifier()"
      ]
     },
     "execution_count": 21,
     "metadata": {},
     "output_type": "execute_result"
    }
   ],
   "source": [
    "# Train a classification model (Random Forest classifier)\n",
    "classifier = RandomForestClassifier()\n",
    "classifier.fit(X_train, y_train)"
   ]
  },
  {
   "cell_type": "code",
   "execution_count": 22,
   "id": "4a51abb6",
   "metadata": {
    "execution": {
     "iopub.execute_input": "2024-04-29T08:07:04.050278Z",
     "iopub.status.busy": "2024-04-29T08:07:04.049824Z",
     "iopub.status.idle": "2024-04-29T08:07:04.179907Z",
     "shell.execute_reply": "2024-04-29T08:07:04.178643Z"
    },
    "papermill": {
     "duration": 0.15382,
     "end_time": "2024-04-29T08:07:04.183116",
     "exception": false,
     "start_time": "2024-04-29T08:07:04.029296",
     "status": "completed"
    },
    "tags": []
   },
   "outputs": [],
   "source": [
    "y_pred=classifier.predict(X_test)"
   ]
  },
  {
   "cell_type": "code",
   "execution_count": 23,
   "id": "37f4e674",
   "metadata": {
    "execution": {
     "iopub.execute_input": "2024-04-29T08:07:04.222858Z",
     "iopub.status.busy": "2024-04-29T08:07:04.222445Z",
     "iopub.status.idle": "2024-04-29T08:07:04.354520Z",
     "shell.execute_reply": "2024-04-29T08:07:04.352970Z"
    },
    "papermill": {
     "duration": 0.156257,
     "end_time": "2024-04-29T08:07:04.358472",
     "exception": false,
     "start_time": "2024-04-29T08:07:04.202215",
     "status": "completed"
    },
    "tags": []
   },
   "outputs": [
    {
     "name": "stdout",
     "output_type": "stream",
     "text": [
      "Classification Accuracy: 1.0\n"
     ]
    }
   ],
   "source": [
    "# Evaluate the classification model\n",
    "accuracy = classifier.score(X_test, y_test)\n",
    "print(\"Classification Accuracy:\", accuracy)\n"
   ]
  },
  {
   "cell_type": "code",
   "execution_count": 24,
   "id": "3f2d34d6",
   "metadata": {
    "execution": {
     "iopub.execute_input": "2024-04-29T08:07:04.401167Z",
     "iopub.status.busy": "2024-04-29T08:07:04.400749Z",
     "iopub.status.idle": "2024-04-29T08:07:04.430247Z",
     "shell.execute_reply": "2024-04-29T08:07:04.429402Z"
    },
    "papermill": {
     "duration": 0.054927,
     "end_time": "2024-04-29T08:07:04.432907",
     "exception": false,
     "start_time": "2024-04-29T08:07:04.377980",
     "status": "completed"
    },
    "tags": []
   },
   "outputs": [
    {
     "name": "stdout",
     "output_type": "stream",
     "text": [
      "              precision    recall  f1-score   support\n",
      "\n",
      "           0       1.00      1.00      1.00       771\n",
      "           1       1.00      1.00      1.00       542\n",
      "           2       1.00      1.00      1.00       662\n",
      "           3       1.00      1.00      1.00       439\n",
      "           4       1.00      1.00      1.00      1115\n",
      "           5       1.00      1.00      1.00       728\n",
      "           6       1.00      1.00      1.00       469\n",
      "           7       1.00      1.00      1.00       818\n",
      "           8       1.00      1.00      1.00       723\n",
      "           9       1.00      1.00      1.00       796\n",
      "\n",
      "    accuracy                           1.00      7063\n",
      "   macro avg       1.00      1.00      1.00      7063\n",
      "weighted avg       1.00      1.00      1.00      7063\n",
      "\n"
     ]
    }
   ],
   "source": [
    "print(classification_report(y_pred, y_test))"
   ]
  },
  {
   "cell_type": "markdown",
   "id": "346e4f99",
   "metadata": {
    "papermill": {
     "duration": 0.020075,
     "end_time": "2024-04-29T08:07:04.472268",
     "exception": false,
     "start_time": "2024-04-29T08:07:04.452193",
     "status": "completed"
    },
    "tags": []
   },
   "source": [
    "# Perform product clustering"
   ]
  },
  {
   "cell_type": "code",
   "execution_count": 25,
   "id": "3e6487c0",
   "metadata": {
    "execution": {
     "iopub.execute_input": "2024-04-29T08:07:04.515140Z",
     "iopub.status.busy": "2024-04-29T08:07:04.514433Z",
     "iopub.status.idle": "2024-04-29T08:07:04.520193Z",
     "shell.execute_reply": "2024-04-29T08:07:04.519135Z"
    },
    "papermill": {
     "duration": 0.029736,
     "end_time": "2024-04-29T08:07:04.523016",
     "exception": false,
     "start_time": "2024-04-29T08:07:04.493280",
     "status": "completed"
    },
    "tags": []
   },
   "outputs": [],
   "source": [
    "# Select features for clustering\n",
    "X_clustering = data[['Product Title', ' Merchant ID', ' Cluster ID']]"
   ]
  },
  {
   "cell_type": "code",
   "execution_count": 26,
   "id": "4f838d47",
   "metadata": {
    "execution": {
     "iopub.execute_input": "2024-04-29T08:07:04.561647Z",
     "iopub.status.busy": "2024-04-29T08:07:04.561238Z",
     "iopub.status.idle": "2024-04-29T08:07:06.059497Z",
     "shell.execute_reply": "2024-04-29T08:07:06.058528Z"
    },
    "papermill": {
     "duration": 1.520937,
     "end_time": "2024-04-29T08:07:06.062451",
     "exception": false,
     "start_time": "2024-04-29T08:07:04.541514",
     "status": "completed"
    },
    "tags": []
   },
   "outputs": [
    {
     "name": "stderr",
     "output_type": "stream",
     "text": [
      "/opt/conda/lib/python3.10/site-packages/sklearn/cluster/_kmeans.py:870: FutureWarning: The default value of `n_init` will change from 10 to 'auto' in 1.4. Set the value of `n_init` explicitly to suppress the warning\n",
      "  warnings.warn(\n"
     ]
    }
   ],
   "source": [
    "# Perform KMeans clustering\n",
    "kmeans = KMeans(n_clusters=5)  # Specify the number of clusters\n",
    "clusters = kmeans.fit_predict(X_clustering)"
   ]
  },
  {
   "cell_type": "code",
   "execution_count": 27,
   "id": "d2da5119",
   "metadata": {
    "execution": {
     "iopub.execute_input": "2024-04-29T08:07:06.101914Z",
     "iopub.status.busy": "2024-04-29T08:07:06.101515Z",
     "iopub.status.idle": "2024-04-29T08:07:06.108173Z",
     "shell.execute_reply": "2024-04-29T08:07:06.107258Z"
    },
    "papermill": {
     "duration": 0.029846,
     "end_time": "2024-04-29T08:07:06.111698",
     "exception": false,
     "start_time": "2024-04-29T08:07:06.081852",
     "status": "completed"
    },
    "tags": []
   },
   "outputs": [
    {
     "data": {
      "text/plain": [
       "array([2, 2, 2, ..., 3, 4, 0], dtype=int32)"
      ]
     },
     "execution_count": 27,
     "metadata": {},
     "output_type": "execute_result"
    }
   ],
   "source": [
    "clusters"
   ]
  },
  {
   "cell_type": "code",
   "execution_count": 28,
   "id": "65ec18db",
   "metadata": {
    "execution": {
     "iopub.execute_input": "2024-04-29T08:07:06.152656Z",
     "iopub.status.busy": "2024-04-29T08:07:06.151298Z",
     "iopub.status.idle": "2024-04-29T08:07:06.157137Z",
     "shell.execute_reply": "2024-04-29T08:07:06.156284Z"
    },
    "papermill": {
     "duration": 0.027975,
     "end_time": "2024-04-29T08:07:06.159684",
     "exception": false,
     "start_time": "2024-04-29T08:07:06.131709",
     "status": "completed"
    },
    "tags": []
   },
   "outputs": [],
   "source": [
    "# Add cluster labels to the dataset\n",
    "data['Cluster'] = clusters"
   ]
  },
  {
   "cell_type": "code",
   "execution_count": 29,
   "id": "f32fdb6b",
   "metadata": {
    "execution": {
     "iopub.execute_input": "2024-04-29T08:07:06.200830Z",
     "iopub.status.busy": "2024-04-29T08:07:06.200381Z",
     "iopub.status.idle": "2024-04-29T08:07:06.215875Z",
     "shell.execute_reply": "2024-04-29T08:07:06.215021Z"
    },
    "papermill": {
     "duration": 0.039436,
     "end_time": "2024-04-29T08:07:06.218637",
     "exception": false,
     "start_time": "2024-04-29T08:07:06.179201",
     "status": "completed"
    },
    "tags": []
   },
   "outputs": [
    {
     "data": {
      "text/html": [
       "<div>\n",
       "<style scoped>\n",
       "    .dataframe tbody tr th:only-of-type {\n",
       "        vertical-align: middle;\n",
       "    }\n",
       "\n",
       "    .dataframe tbody tr th {\n",
       "        vertical-align: top;\n",
       "    }\n",
       "\n",
       "    .dataframe thead th {\n",
       "        text-align: right;\n",
       "    }\n",
       "</style>\n",
       "<table border=\"1\" class=\"dataframe\">\n",
       "  <thead>\n",
       "    <tr style=\"text-align: right;\">\n",
       "      <th></th>\n",
       "      <th>Product ID</th>\n",
       "      <th>Product Title</th>\n",
       "      <th>Merchant ID</th>\n",
       "      <th>Cluster ID</th>\n",
       "      <th>Cluster Label</th>\n",
       "      <th>Category ID</th>\n",
       "      <th>Category Label</th>\n",
       "      <th>Cluster</th>\n",
       "    </tr>\n",
       "  </thead>\n",
       "  <tbody>\n",
       "    <tr>\n",
       "      <th>0</th>\n",
       "      <td>1</td>\n",
       "      <td>2561</td>\n",
       "      <td>1</td>\n",
       "      <td>1</td>\n",
       "      <td>909</td>\n",
       "      <td>2612</td>\n",
       "      <td>7</td>\n",
       "      <td>2</td>\n",
       "    </tr>\n",
       "    <tr>\n",
       "      <th>1</th>\n",
       "      <td>2</td>\n",
       "      <td>2559</td>\n",
       "      <td>2</td>\n",
       "      <td>1</td>\n",
       "      <td>909</td>\n",
       "      <td>2612</td>\n",
       "      <td>7</td>\n",
       "      <td>2</td>\n",
       "    </tr>\n",
       "    <tr>\n",
       "      <th>2</th>\n",
       "      <td>3</td>\n",
       "      <td>2656</td>\n",
       "      <td>3</td>\n",
       "      <td>1</td>\n",
       "      <td>909</td>\n",
       "      <td>2612</td>\n",
       "      <td>7</td>\n",
       "      <td>2</td>\n",
       "    </tr>\n",
       "    <tr>\n",
       "      <th>3</th>\n",
       "      <td>4</td>\n",
       "      <td>2563</td>\n",
       "      <td>4</td>\n",
       "      <td>1</td>\n",
       "      <td>909</td>\n",
       "      <td>2612</td>\n",
       "      <td>7</td>\n",
       "      <td>2</td>\n",
       "    </tr>\n",
       "    <tr>\n",
       "      <th>4</th>\n",
       "      <td>5</td>\n",
       "      <td>2565</td>\n",
       "      <td>5</td>\n",
       "      <td>1</td>\n",
       "      <td>909</td>\n",
       "      <td>2612</td>\n",
       "      <td>7</td>\n",
       "      <td>2</td>\n",
       "    </tr>\n",
       "    <tr>\n",
       "      <th>...</th>\n",
       "      <td>...</td>\n",
       "      <td>...</td>\n",
       "      <td>...</td>\n",
       "      <td>...</td>\n",
       "      <td>...</td>\n",
       "      <td>...</td>\n",
       "      <td>...</td>\n",
       "      <td>...</td>\n",
       "    </tr>\n",
       "    <tr>\n",
       "      <th>35306</th>\n",
       "      <td>47350</td>\n",
       "      <td>27084</td>\n",
       "      <td>59</td>\n",
       "      <td>47517</td>\n",
       "      <td>11152</td>\n",
       "      <td>2623</td>\n",
       "      <td>5</td>\n",
       "      <td>3</td>\n",
       "    </tr>\n",
       "    <tr>\n",
       "      <th>35307</th>\n",
       "      <td>47351</td>\n",
       "      <td>27083</td>\n",
       "      <td>59</td>\n",
       "      <td>47518</td>\n",
       "      <td>11154</td>\n",
       "      <td>2623</td>\n",
       "      <td>5</td>\n",
       "      <td>3</td>\n",
       "    </tr>\n",
       "    <tr>\n",
       "      <th>35308</th>\n",
       "      <td>47352</td>\n",
       "      <td>27082</td>\n",
       "      <td>59</td>\n",
       "      <td>47519</td>\n",
       "      <td>11153</td>\n",
       "      <td>2623</td>\n",
       "      <td>5</td>\n",
       "      <td>3</td>\n",
       "    </tr>\n",
       "    <tr>\n",
       "      <th>35309</th>\n",
       "      <td>47355</td>\n",
       "      <td>6918</td>\n",
       "      <td>125</td>\n",
       "      <td>47524</td>\n",
       "      <td>2685</td>\n",
       "      <td>2623</td>\n",
       "      <td>5</td>\n",
       "      <td>4</td>\n",
       "    </tr>\n",
       "    <tr>\n",
       "      <th>35310</th>\n",
       "      <td>47358</td>\n",
       "      <td>19779</td>\n",
       "      <td>179</td>\n",
       "      <td>47525</td>\n",
       "      <td>8039</td>\n",
       "      <td>2623</td>\n",
       "      <td>5</td>\n",
       "      <td>0</td>\n",
       "    </tr>\n",
       "  </tbody>\n",
       "</table>\n",
       "<p>35311 rows × 8 columns</p>\n",
       "</div>"
      ],
      "text/plain": [
       "       Product ID  Product Title   Merchant ID   Cluster ID   Cluster Label  \\\n",
       "0               1           2561             1            1             909   \n",
       "1               2           2559             2            1             909   \n",
       "2               3           2656             3            1             909   \n",
       "3               4           2563             4            1             909   \n",
       "4               5           2565             5            1             909   \n",
       "...           ...            ...           ...          ...             ...   \n",
       "35306       47350          27084            59        47517           11152   \n",
       "35307       47351          27083            59        47518           11154   \n",
       "35308       47352          27082            59        47519           11153   \n",
       "35309       47355           6918           125        47524            2685   \n",
       "35310       47358          19779           179        47525            8039   \n",
       "\n",
       "        Category ID   Category Label  Cluster  \n",
       "0              2612                7        2  \n",
       "1              2612                7        2  \n",
       "2              2612                7        2  \n",
       "3              2612                7        2  \n",
       "4              2612                7        2  \n",
       "...             ...              ...      ...  \n",
       "35306          2623                5        3  \n",
       "35307          2623                5        3  \n",
       "35308          2623                5        3  \n",
       "35309          2623                5        4  \n",
       "35310          2623                5        0  \n",
       "\n",
       "[35311 rows x 8 columns]"
      ]
     },
     "execution_count": 29,
     "metadata": {},
     "output_type": "execute_result"
    }
   ],
   "source": [
    "data"
   ]
  },
  {
   "cell_type": "code",
   "execution_count": 30,
   "id": "70f42cb9",
   "metadata": {
    "execution": {
     "iopub.execute_input": "2024-04-29T08:07:06.258694Z",
     "iopub.status.busy": "2024-04-29T08:07:06.257926Z",
     "iopub.status.idle": "2024-04-29T08:07:06.266046Z",
     "shell.execute_reply": "2024-04-29T08:07:06.264733Z"
    },
    "papermill": {
     "duration": 0.031186,
     "end_time": "2024-04-29T08:07:06.268856",
     "exception": false,
     "start_time": "2024-04-29T08:07:06.237670",
     "status": "completed"
    },
    "tags": []
   },
   "outputs": [
    {
     "data": {
      "text/plain": [
       "Index(['Product ID', 'Product Title', ' Merchant ID', ' Cluster ID',\n",
       "       ' Cluster Label', ' Category ID', ' Category Label', 'Cluster'],\n",
       "      dtype='object')"
      ]
     },
     "execution_count": 30,
     "metadata": {},
     "output_type": "execute_result"
    }
   ],
   "source": [
    "data.columns"
   ]
  },
  {
   "cell_type": "code",
   "execution_count": null,
   "id": "d043428f",
   "metadata": {
    "papermill": {
     "duration": 0.017649,
     "end_time": "2024-04-29T08:07:06.304536",
     "exception": false,
     "start_time": "2024-04-29T08:07:06.286887",
     "status": "completed"
    },
    "tags": []
   },
   "outputs": [],
   "source": []
  }
 ],
 "metadata": {
  "kaggle": {
   "accelerator": "none",
   "dataSources": [
    {
     "datasetId": 4871054,
     "sourceId": 8217735,
     "sourceType": "datasetVersion"
    }
   ],
   "dockerImageVersionId": 30698,
   "isGpuEnabled": false,
   "isInternetEnabled": true,
   "language": "python",
   "sourceType": "notebook"
  },
  "kernelspec": {
   "display_name": "Python 3",
   "language": "python",
   "name": "python3"
  },
  "language_info": {
   "codemirror_mode": {
    "name": "ipython",
    "version": 3
   },
   "file_extension": ".py",
   "mimetype": "text/x-python",
   "name": "python",
   "nbconvert_exporter": "python",
   "pygments_lexer": "ipython3",
   "version": "3.10.13"
  },
  "papermill": {
   "default_parameters": {},
   "duration": 14.357992,
   "end_time": "2024-04-29T08:07:07.045036",
   "environment_variables": {},
   "exception": null,
   "input_path": "__notebook__.ipynb",
   "output_path": "__notebook__.ipynb",
   "parameters": {},
   "start_time": "2024-04-29T08:06:52.687044",
   "version": "2.5.0"
  }
 },
 "nbformat": 4,
 "nbformat_minor": 5
}
